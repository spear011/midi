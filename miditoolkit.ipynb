{
 "cells": [
  {
   "cell_type": "code",
   "execution_count": 1,
   "metadata": {},
   "outputs": [],
   "source": [
    "import pandas as pd\n",
    "import numpy as np\n",
    "\n",
    "import miditoolkit\n",
    "\n",
    "import re\n",
    "import glob\n",
    "import os\n",
    "\n",
    "from music21 import *\n",
    "import os\n",
    "import pandas as pd\n",
    "import glob\n",
    "\n",
    "from tqdm import tqdm\n",
    "\n",
    "from utils.utils import open_midi, get_file_name, extract_tempo, extract_key, to_snake_case"
   ]
  },
  {
   "cell_type": "code",
   "execution_count": 2,
   "metadata": {},
   "outputs": [],
   "source": [
    "p_df = pd.read_csv(r'/Users/hai/Desktop/hch/projects/midi/csv/program_change.csv')\n",
    "com_df = pd.read_csv(r'/Users/hai/Desktop/hch/projects/midi/csv/commu_meta.csv', index_col=0)\n",
    "df = pd.read_csv(r'/Users/hai/Desktop/hch/projects/midi/csv/allgenre_cp.csv')"
   ]
  },
  {
   "cell_type": "code",
   "execution_count": 3,
   "metadata": {},
   "outputs": [],
   "source": [
    "commu_folder = './commu_midi'\n",
    "com_m = glob.glob(f'{commu_folder}/*.mid')\n",
    "com_m.sort()"
   ]
  },
  {
   "cell_type": "code",
   "execution_count": 4,
   "metadata": {},
   "outputs": [],
   "source": [
    "our_m = list()\n",
    "for idx, v in enumerate(df['song_title'].values):\n",
    "\n",
    "    genre = df['genre'].values[idx]\n",
    "    data_folder = './data/' + genre + '/cropped'\n",
    "\n",
    "    our_m.append(os.path.join(data_folder, v + '/' + df['file_name'].values[idx]))"
   ]
  },
  {
   "cell_type": "code",
   "execution_count": 5,
   "metadata": {},
   "outputs": [],
   "source": [
    " chord_lst = [\n",
    "        \"a\",\n",
    "        \"a#\",\n",
    "        \"b\",\n",
    "        \"c\",\n",
    "        \"c#\",\n",
    "        \"d\",\n",
    "        \"d#\",\n",
    "        \"e\",\n",
    "        \"f\",\n",
    "        \"f#\",\n",
    "        \"g\",\n",
    "        \"g#\",\n",
    "        \"ab\",\n",
    "        \"bb\",\n",
    "        \"db\",\n",
    "        \"eb\",\n",
    "        \"gb\",\n",
    "    ]"
   ]
  },
  {
   "cell_type": "code",
   "execution_count": 6,
   "metadata": {},
   "outputs": [],
   "source": [
    "def sync_key_augment(chords, aug_key, origin_key):\n",
    "    chord_lst = [\n",
    "        \"a\",\n",
    "        \"a#\",\n",
    "        \"b\",\n",
    "        \"c\",\n",
    "        \"c#\",\n",
    "        \"d\",\n",
    "        \"d#\",\n",
    "        \"e\",\n",
    "        \"f\",\n",
    "        \"f#\",\n",
    "        \"g\",\n",
    "        \"g#\",\n",
    "        \"ab\",\n",
    "        \"bb\",\n",
    "        \"db\",\n",
    "        \"eb\",\n",
    "        \"gb\",\n",
    "    ]\n",
    "    chord2symbol = {k: v for k, v in zip(chord_lst, range(12))}\n",
    "    chord2symbol[\"ab\"] = 11\n",
    "    chord2symbol[\"bb\"] = 1\n",
    "    chord2symbol[\"db\"] = 4\n",
    "    chord2symbol[\"eb\"] = 6\n",
    "    chord2symbol[\"gb\"] = 9\n",
    "    symbol2chord = {v: k for k, v in chord2symbol.items()}\n",
    "\n",
    "    basic_chord = []\n",
    "    for c in chords:\n",
    "        match = re.match(r\"[A-G](#|b|)\", c)\n",
    "        basic_chord.append(match[0])\n",
    "\n",
    "    chord_type = [c.replace(b, \"\") for c, b in zip(chords, basic_chord)]\n",
    "    symbol_lst = [chord2symbol[c.lower()] for c in basic_chord]\n",
    "\n",
    "    origin_key_symbol = chord2symbol[origin_key]\n",
    "\n",
    "    augment_key_symbol = chord2symbol[aug_key]\n",
    "\n",
    "    key_diff = origin_key_symbol - augment_key_symbol\n",
    "    key_change = abs(key_diff)\n",
    "    if key_diff < 0:\n",
    "        new_symbol_lst = []\n",
    "        for s in symbol_lst:\n",
    "            new_s = s + key_change\n",
    "            if new_s >= 12:\n",
    "                new_s = new_s - 12\n",
    "            new_symbol_lst.append(new_s)\n",
    "    else:\n",
    "        new_symbol_lst = []\n",
    "        for s in symbol_lst:\n",
    "            new_s = s - key_change\n",
    "            if new_s < 0:\n",
    "                new_s = new_s + 12\n",
    "            new_symbol_lst.append(new_s)\n",
    "\n",
    "    new_chord_lst = [symbol2chord[s] for s in new_symbol_lst]\n",
    "    new_chord_lst = [c + t for c, t in zip(new_chord_lst, chord_type)]\n",
    "    return [new_chord_lst]"
   ]
  },
  {
   "cell_type": "code",
   "execution_count": 7,
   "metadata": {},
   "outputs": [],
   "source": [
    "score = converter.parse(our_m[60396])"
   ]
  },
  {
   "cell_type": "code",
   "execution_count": 8,
   "metadata": {},
   "outputs": [],
   "source": [
    "score = converter.parse(com_m[9999])"
   ]
  },
  {
   "cell_type": "code",
   "execution_count": 9,
   "metadata": {},
   "outputs": [
    {
     "data": {
      "text/plain": [
       "audio_key                                                        aminor\n",
       "chord_progressions    [['Am', 'Am', 'Am', 'Am', 'Am', 'Am', 'Am', 'A...\n",
       "pitch_range                                                     mid_low\n",
       "num_measures                                                          8\n",
       "bpm                                                                  90\n",
       "genre                                                         cinematic\n",
       "track_role                                                          pad\n",
       "inst                                                  string_ensemble-2\n",
       "sample_rhythm                                                  standard\n",
       "time_signature                                                      4/4\n",
       "min_velocity                                                        127\n",
       "max_velocity                                                        127\n",
       "split_data                                                        train\n",
       "id                                                           commu10000\n",
       "Name: 9999, dtype: object"
      ]
     },
     "execution_count": 9,
     "metadata": {},
     "output_type": "execute_result"
    }
   ],
   "source": [
    "com_df.iloc[9999]"
   ]
  },
  {
   "cell_type": "code",
   "execution_count": 10,
   "metadata": {},
   "outputs": [
    {
     "data": {
      "text/plain": [
       "\"[['Am', 'Am', 'Am', 'Am', 'Am', 'Am', 'Am', 'Am', 'F', 'F', 'F', 'F', 'F', 'F', 'F', 'F', 'Am7', 'Am7', 'Am7', 'Am7', 'Am7', 'Am7', 'Am7', 'Am7', 'Dm', 'Dm', 'Dm', 'Dm', 'Dm', 'Dm', 'Dm', 'Dm', 'Am', 'Am', 'Am', 'Am', 'Am', 'Am', 'Am', 'Am', 'F', 'F', 'F', 'F', 'F', 'F', 'F', 'F', 'Am7', 'Am7', 'Am7', 'Am7', 'Am7', 'Am7', 'Am7', 'Am7', 'Dm', 'Dm', 'Dm', 'Dm', 'Dm', 'Dm', 'Dm', 'Dm']]\""
      ]
     },
     "execution_count": 10,
     "metadata": {},
     "output_type": "execute_result"
    }
   ],
   "source": [
    "com_df['chord_progressions'][9999]"
   ]
  },
  {
   "cell_type": "code",
   "execution_count": 11,
   "metadata": {},
   "outputs": [],
   "source": [
    "com_c = ['Am', 'Am', 'Am', 'Am', 'Am', 'Am', 'Am', 'Am', \n",
    "  'F', 'F', 'F', 'F', 'F', 'F', 'F', 'F', \n",
    "  'Am7', 'Am7', 'Am7', 'Am7', 'Am7', 'Am7', 'Am7', 'Am7', \n",
    "  'Dm', 'Dm', 'Dm', 'Dm', 'Dm', 'Dm', 'Dm', 'Dm', \n",
    "  'Am', 'Am', 'Am', 'Am', 'Am', 'Am', 'Am', 'Am', \n",
    "  'F', 'F', 'F', 'F', 'F', 'F', 'F', 'F', \n",
    "  'Am7', 'Am7', 'Am7', 'Am7', 'Am7', 'Am7', 'Am7', 'Am7', \n",
    "  'Dm', 'Dm', 'Dm', 'Dm', 'Dm', 'Dm', 'Dm', 'Dm']"
   ]
  },
  {
   "cell_type": "code",
   "execution_count": 12,
   "metadata": {},
   "outputs": [
    {
     "data": {
      "text/plain": [
       "64"
      ]
     },
     "execution_count": 12,
     "metadata": {},
     "output_type": "execute_result"
    }
   ],
   "source": [
    "len(com_c)"
   ]
  },
  {
   "cell_type": "code",
   "execution_count": 13,
   "metadata": {},
   "outputs": [],
   "source": [
    "names = list()\n",
    "\n",
    "for obj in score.recurse():\n",
    "    if isinstance(obj, note.Note):\n",
    "        names.append(obj.nameWithOctave)\n",
    "    elif isinstance(obj, chord.Chord):\n",
    "        c = obj.root().name +'_'+ obj.commonName\n",
    "        names.append(to_snake_case(c))"
   ]
  },
  {
   "cell_type": "code",
   "execution_count": 14,
   "metadata": {},
   "outputs": [],
   "source": [
    "note_list = list()\n",
    "for obj in score.measures(2,2).recurse():\n",
    "    if isinstance(obj, note.Note):\n",
    "        note_list.append(obj.name)\n",
    "    elif isinstance(obj, chord.Chord):\n",
    "        for p in obj.pitches:\n",
    "            note_list.append(p.name)"
   ]
  },
  {
   "cell_type": "code",
   "execution_count": 15,
   "metadata": {},
   "outputs": [],
   "source": [
    "current_chord = chord.Chord(set(note_list))"
   ]
  },
  {
   "cell_type": "code",
   "execution_count": 16,
   "metadata": {},
   "outputs": [],
   "source": [
    "new_list = list()\n",
    "for n in note_list:\n",
    "    p_c = pitch.Pitch(n)\n",
    "    new_list.append(p_c.pitchClass)"
   ]
  },
  {
   "cell_type": "code",
   "execution_count": 17,
   "metadata": {},
   "outputs": [
    {
     "data": {
      "text/plain": [
       "[9, 5]"
      ]
     },
     "execution_count": 17,
     "metadata": {},
     "output_type": "execute_result"
    }
   ],
   "source": [
    "new_list"
   ]
  },
  {
   "cell_type": "code",
   "execution_count": 18,
   "metadata": {},
   "outputs": [
    {
     "data": {
      "text/plain": [
       "<music21.chord.Chord F A>"
      ]
     },
     "execution_count": 18,
     "metadata": {},
     "output_type": "execute_result"
    }
   ],
   "source": [
    "new_list_c = chord.Chord(set(note_list))\n",
    "new_list_c"
   ]
  },
  {
   "cell_type": "code",
   "execution_count": 19,
   "metadata": {},
   "outputs": [
    {
     "data": {
      "text/plain": [
       "'Major Third'"
      ]
     },
     "execution_count": 19,
     "metadata": {},
     "output_type": "execute_result"
    }
   ],
   "source": [
    "new_list_c.commonName"
   ]
  },
  {
   "cell_type": "code",
   "execution_count": 20,
   "metadata": {},
   "outputs": [],
   "source": [
    "c = new_list_c.root().name +'_'+ new_list_c.commonName"
   ]
  },
  {
   "cell_type": "code",
   "execution_count": 22,
   "metadata": {},
   "outputs": [
    {
     "data": {
      "text/plain": [
       "'f_major_third'"
      ]
     },
     "execution_count": 22,
     "metadata": {},
     "output_type": "execute_result"
    }
   ],
   "source": [
    "to_snake_case(c)"
   ]
  },
  {
   "cell_type": "code",
   "execution_count": 58,
   "metadata": {},
   "outputs": [
    {
     "data": {
      "text/plain": [
       "['a_perfect_fifth',\n",
       " 'f_minor_sixth',\n",
       " 'a_minor_seventh',\n",
       " 'f_minor_sixth',\n",
       " 'a_perfect_fifth',\n",
       " 'f_minor_sixth',\n",
       " 'a_minor_seventh',\n",
       " 'f_minor_sixth']"
      ]
     },
     "execution_count": 58,
     "metadata": {},
     "output_type": "execute_result"
    }
   ],
   "source": [
    "names"
   ]
  },
  {
   "cell_type": "code",
   "execution_count": 48,
   "metadata": {},
   "outputs": [],
   "source": [
    "chords = list(chords.replace('[', '').replace(']', '').replace(\"'\", '').split(', '))"
   ]
  },
  {
   "cell_type": "code",
   "execution_count": 54,
   "metadata": {},
   "outputs": [
    {
     "data": {
      "text/plain": [
       "'minor_second_above_b'"
      ]
     },
     "execution_count": 54,
     "metadata": {},
     "output_type": "execute_result"
    }
   ],
   "source": [
    "chords[-4]"
   ]
  },
  {
   "cell_type": "code",
   "execution_count": 59,
   "metadata": {},
   "outputs": [
    {
     "name": "stdout",
     "output_type": "stream",
     "text": [
      "<re.Match object; span=(0, 1), match='a'>\n",
      "<re.Match object; span=(0, 1), match='f'>\n",
      "<re.Match object; span=(0, 1), match='a'>\n",
      "<re.Match object; span=(0, 1), match='f'>\n",
      "<re.Match object; span=(0, 1), match='a'>\n",
      "<re.Match object; span=(0, 1), match='f'>\n",
      "<re.Match object; span=(0, 1), match='a'>\n",
      "<re.Match object; span=(0, 1), match='f'>\n"
     ]
    }
   ],
   "source": [
    "basic_chord = []\n",
    "for c in names:\n",
    "    match = re.match(r\"[a-g](#|b|)\", c)\n",
    "    print(match)\n",
    "    basic_chord.append(match[0])"
   ]
  },
  {
   "cell_type": "code",
   "execution_count": 64,
   "metadata": {},
   "outputs": [
    {
     "data": {
      "text/plain": [
       "['a', 'f', 'a', 'f', 'a', 'f', 'a', 'f']"
      ]
     },
     "execution_count": 64,
     "metadata": {},
     "output_type": "execute_result"
    }
   ],
   "source": [
    "basic_chord"
   ]
  },
  {
   "cell_type": "code",
   "execution_count": 65,
   "metadata": {},
   "outputs": [],
   "source": [
    "chord2symbol = {k: v for k, v in zip(chord_lst, range(12))}\n",
    "chord2symbol[\"ab\"] = 11\n",
    "chord2symbol[\"bb\"] = 1\n",
    "chord2symbol[\"db\"] = 4\n",
    "chord2symbol[\"eb\"] = 6\n",
    "chord2symbol[\"gb\"] = 9\n",
    "symbol2chord = {v: k for k, v in chord2symbol.items()}"
   ]
  },
  {
   "cell_type": "code",
   "execution_count": 66,
   "metadata": {},
   "outputs": [],
   "source": [
    "chord_type = [c.replace(b, \"\") for c, b in zip(names, basic_chord)]\n",
    "symbol_lst = [chord2symbol[c.lower()] for c in basic_chord]\n"
   ]
  },
  {
   "cell_type": "code",
   "execution_count": 67,
   "metadata": {},
   "outputs": [
    {
     "data": {
      "text/plain": [
       "['_perfect_fifth',\n",
       " '_minor_sixth',\n",
       " '_minor_seventh',\n",
       " '_minor_sixth',\n",
       " '_perfect_fifth',\n",
       " '_minor_sixth',\n",
       " '_minor_seventh',\n",
       " '_minor_sixth']"
      ]
     },
     "execution_count": 67,
     "metadata": {},
     "output_type": "execute_result"
    }
   ],
   "source": [
    "chord_type"
   ]
  },
  {
   "cell_type": "code",
   "execution_count": null,
   "metadata": {},
   "outputs": [],
   "source": []
  }
 ],
 "metadata": {
  "kernelspec": {
   "display_name": "torch_book",
   "language": "python",
   "name": "python3"
  },
  "language_info": {
   "codemirror_mode": {
    "name": "ipython",
    "version": 3
   },
   "file_extension": ".py",
   "mimetype": "text/x-python",
   "name": "python",
   "nbconvert_exporter": "python",
   "pygments_lexer": "ipython3",
   "version": "3.9.16"
  },
  "orig_nbformat": 4
 },
 "nbformat": 4,
 "nbformat_minor": 2
}
