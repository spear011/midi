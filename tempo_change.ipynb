{
 "cells": [
  {
   "cell_type": "code",
   "execution_count": 1,
   "metadata": {},
   "outputs": [],
   "source": [
    "from pipeline.pipeline import Pipeline\n",
    "from music21 import converter, midi, key, instrument, meter, interval, note, pitch, stream, tempo\n",
    "import os\n",
    "import pandas as pd\n",
    "import mido\n",
    "import glob\n",
    "\n",
    "import pretty_midi\n",
    "\n",
    "import mido\n",
    "import pandas as pd\n",
    "\n",
    "from utils.utils import open_midi, get_file_name, extract_tempo, extract_key, to_snake_case"
   ]
  },
  {
   "cell_type": "code",
   "execution_count": 2,
   "metadata": {},
   "outputs": [],
   "source": [
    "midi_folder = './test_data/processed'\n",
    "output_folder = './test_data/cropped'\n",
    "num_bars = 8\n",
    "\n",
    "p_df = pd.read_csv(r'/Users/hai/Desktop/hch/projects/midi/csv/program_change.csv')\n",
    "com_df = pd.read_csv(r'/Users/hai/Desktop/hch/projects/midi/csv/commu_meta.csv', index_col=0)"
   ]
  },
  {
   "cell_type": "code",
   "execution_count": 3,
   "metadata": {},
   "outputs": [],
   "source": [
    "def get_tempo(pm):\n",
    "    tempo_estimated = pm.estimate_tempo()\n",
    "    _, tempo = pm.get_tempo_changes()\n",
    "    return tempo.tolist()\n",
    "\n",
    "def find_near_bpm(bpm_list, bpm_value):\n",
    "    answer = 0\n",
    "    minValue = min(bpm_list, key=lambda x:abs(x-bpm_value))\n",
    "    answer = minValue\n",
    "    return answer"
   ]
  },
  {
   "cell_type": "code",
   "execution_count": 4,
   "metadata": {},
   "outputs": [],
   "source": [
    "bpm_list = com_df['bpm'].unique().tolist()\n",
    "bpm_list.sort()"
   ]
  },
  {
   "cell_type": "code",
   "execution_count": 5,
   "metadata": {},
   "outputs": [],
   "source": [
    "bpm_list = [35,45,50,60,65,70,75,80,85,90,95,100,105,110,120,125,130,135,140,145,150,155]"
   ]
  },
  {
   "cell_type": "code",
   "execution_count": 6,
   "metadata": {},
   "outputs": [],
   "source": [
    "midi_path = glob.glob(f'{midi_folder}/*.mid')"
   ]
  },
  {
   "cell_type": "code",
   "execution_count": 7,
   "metadata": {},
   "outputs": [
    {
     "data": {
      "text/plain": [
       "['./test_data/processed/Abyss.mid',\n",
       " './test_data/processed/CoronationStreet.mid',\n",
       " './test_data/processed/FabulCastle.mid',\n",
       " './test_data/processed/FigaroCastle.mid',\n",
       " './test_data/processed/FinalBattle.mid',\n",
       " './test_data/processed/1492ConquestofParadise.mid',\n",
       " './test_data/processed/10.mid',\n",
       " './test_data/processed/Hyperdimensionneptuniatheanimationopeningdimensiontripper.mid',\n",
       " './test_data/processed/FinalFantasyIX-MelodiesOfLife.mid',\n",
       " './test_data/processed/CharlieAndLola.mid',\n",
       " './test_data/processed/Dr.mid',\n",
       " './test_data/processed/FinalBattle_1.mid',\n",
       " './test_data/processed/HouseM.mid']"
      ]
     },
     "execution_count": 7,
     "metadata": {},
     "output_type": "execute_result"
    }
   ],
   "source": [
    "midi_path"
   ]
  },
  {
   "cell_type": "code",
   "execution_count": 8,
   "metadata": {},
   "outputs": [],
   "source": [
    "mid = mido.MidiFile(midi_path[8])"
   ]
  },
  {
   "cell_type": "code",
   "execution_count": 9,
   "metadata": {},
   "outputs": [],
   "source": [
    "score1 = open_midi(midi_path[8])\n",
    "score2 = open_midi(midi_path[8])"
   ]
  },
  {
   "cell_type": "code",
   "execution_count": 10,
   "metadata": {},
   "outputs": [],
   "source": [
    "beats_per_bar = score1.recurse().getElementsByClass(meter.TimeSignature)[0].numerator\n",
    "num_measures = int(score1.duration.quarterLength / beats_per_bar)"
   ]
  },
  {
   "cell_type": "code",
   "execution_count": 11,
   "metadata": {},
   "outputs": [],
   "source": [
    "extracted_tempo = extract_tempo(score1)\n",
    "target_bpm = find_near_bpm(bpm_list, extracted_tempo)\n",
    "\n",
    "# for part in score1.parts:\n",
    "\n",
    "#     tempo_measures = []\n",
    "\n",
    "#     for measure in part.measures(0, None):\n",
    "#         if measure.recurse().getElementsByClass(tempo.MetronomeMark):\n",
    "#             tempo_measures.append(measure.measureNumber)\n",
    "\n",
    "#     for idx, value in enumerate(tempo_measures):\n",
    "#         if idx < len(tempo_measures) - 1:\n",
    "#             for i in range(6):\n",
    "#                 try:\n",
    "#                     part.measures(value, tempo_measures[idx+1]).recurse().getElementsByClass(tempo.MetronomeMark)[i].number = target_bpm\n",
    "#                 except:\n",
    "#                     pass\n",
    "\n",
    "#         elif idx == len(tempo_measures) - 1:\n",
    "\n",
    "#             for i in range(6):\n",
    "#                 try:\n",
    "#                     part.measures(value, tempo_measures[idx]).recurse().getElementsByClass(tempo.MetronomeMark)[i].number = target_bpm\n",
    "#                 except:\n",
    "#                     pass\n"
   ]
  },
  {
   "cell_type": "code",
   "execution_count": 12,
   "metadata": {},
   "outputs": [],
   "source": [
    "numbers = []\n",
    "for part in score1.parts:\n",
    "\n",
    "    for measure in part.measures(0, None):\n",
    "\n",
    "        if measure.recurse().getElementsByClass(tempo.MetronomeMark):\n",
    "            for i in range(6):\n",
    "                try:\n",
    "                    measure.recurse().getElementsByClass(tempo.MetronomeMark)[i].number = target_bpm\n",
    "                except:\n",
    "                    pass\n",
    "        "
   ]
  },
  {
   "cell_type": "code",
   "execution_count": 13,
   "metadata": {},
   "outputs": [
    {
     "name": "stdout",
     "output_type": "stream",
     "text": [
      "<music21.tempo.MetronomeMark adagietto Quarter=70>\n",
      "<music21.tempo.MetronomeMark andante Quarter=70>\n",
      "<music21.tempo.MetronomeMark adagietto Quarter=70>\n"
     ]
    }
   ],
   "source": [
    "for i in range(5):\n",
    "    try: \n",
    "        print(score1.parts[1].measures(3, 4).recurse().getElementsByClass(tempo.MetronomeMark)[i])\n",
    "    except:\n",
    "        pass"
   ]
  },
  {
   "cell_type": "code",
   "execution_count": 20,
   "metadata": {},
   "outputs": [],
   "source": [
    "for i in range(len(score1.parts)):\n",
    "    for x in score1.parts[i].recurse().getElementsByClass(tempo.MetronomeMark):\n",
    "        x.number = target_bpm\n"
   ]
  }
 ],
 "metadata": {
  "kernelspec": {
   "display_name": "midi",
   "language": "python",
   "name": "python3"
  },
  "language_info": {
   "codemirror_mode": {
    "name": "ipython",
    "version": 3
   },
   "file_extension": ".py",
   "mimetype": "text/x-python",
   "name": "python",
   "nbconvert_exporter": "python",
   "pygments_lexer": "ipython3",
   "version": "3.9.16"
  },
  "orig_nbformat": 4
 },
 "nbformat": 4,
 "nbformat_minor": 2
}
