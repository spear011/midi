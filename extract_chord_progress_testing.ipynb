{
 "cells": [
  {
   "cell_type": "code",
   "execution_count": 1,
   "metadata": {},
   "outputs": [],
   "source": [
    "import pandas as pd\n",
    "import numpy as np\n",
    "\n",
    "import miditoolkit\n",
    "\n",
    "import re\n",
    "import glob\n",
    "import os\n",
    "\n",
    "from music21 import converter, midi, key, instrument, meter, interval, note, pitch, stream, tempo, chord\n",
    "import os\n",
    "import pandas as pd\n",
    "import glob\n",
    "\n",
    "from tqdm import tqdm\n",
    "\n",
    "from utils.utils import open_midi, get_file_name, extract_tempo, extract_key, to_snake_case, chord_type_checker\n",
    "\n",
    "from difflib import get_close_matches"
   ]
  },
  {
   "cell_type": "code",
   "execution_count": 2,
   "metadata": {},
   "outputs": [],
   "source": [
    "p_df = pd.read_csv(r'/Users/hai/Desktop/hch/projects/midi/csv/program_change.csv')\n",
    "com_df = pd.read_csv(r'/Users/hai/Desktop/hch/projects/midi/csv/commu_meta.csv', index_col=0)\n",
    "df = pd.read_csv(r'/Users/hai/Desktop/hch/projects/midi/csv/allgenre_cp.csv')\n",
    "\n",
    "chord_df = pd.read_csv(r'/Users/hai/Desktop/hch/projects/midi/csv/chord_list.csv')"
   ]
  },
  {
   "cell_type": "code",
   "execution_count": 3,
   "metadata": {},
   "outputs": [],
   "source": [
    "scale = [\"maj\", \"maj7\",\"7\",\"dim\",\"dim7\",\"+\",\"m\",\"m7\",\"sus4\",\"7sus4\",\"m7b5\",\"sus2\",\"add2\",\"madd2\",\"mM7\", '5', '6' , 'm5' , 'm6']\n",
    "chord_df['CHORD_TYPE'] = chord_df['CHORD_TYPE'].apply(lambda x: '+' if x == 'aug' else x)\n",
    "chord_df['CHORD_TYPE'] = chord_df['CHORD_TYPE'].apply(lambda x: 'mM7' if x == 'm(maj7)' else x)\n",
    "chord_df['CHORD_TYPE'] = chord_df['CHORD_TYPE'].apply(lambda x: 'add2' if x == 'add9' else x)\n",
    "chord_df = chord_df[chord_df['CHORD_TYPE'].isin(scale)]\n",
    "chord_df.reset_index(drop=True, inplace=True)\n",
    "\n",
    "chord_df['Notes_list'] = chord_df['NOTES'].apply(lambda x: [y for y in x.split(',')])\n",
    "chord_df['Notes_list_string'] = chord_df['Notes_list'].apply(lambda x: str(x))"
   ]
  },
  {
   "cell_type": "code",
   "execution_count": 4,
   "metadata": {},
   "outputs": [],
   "source": [
    "commu_folder = './commu_midi'\n",
    "com_m = glob.glob(f'{commu_folder}/*.mid')\n",
    "com_m.sort()"
   ]
  },
  {
   "cell_type": "code",
   "execution_count": 5,
   "metadata": {},
   "outputs": [],
   "source": [
    "our_m = list()\n",
    "for idx, v in enumerate(df['song_title'].values):\n",
    "\n",
    "    genre = df['genre'].values[idx]\n",
    "    data_folder = './data/' + genre + '/cropped'\n",
    "\n",
    "    our_m.append(os.path.join(data_folder, v + '/' + df['file_name'].values[idx]))"
   ]
  },
  {
   "cell_type": "code",
   "execution_count": 6,
   "metadata": {},
   "outputs": [],
   "source": [
    "# score = converter.parse(our_m[60396])\n",
    "# chords = df['chord_progressions'][60396]"
   ]
  },
  {
   "cell_type": "code",
   "execution_count": 7,
   "metadata": {},
   "outputs": [
    {
     "data": {
      "text/html": [
       "<div>\n",
       "<style scoped>\n",
       "    .dataframe tbody tr th:only-of-type {\n",
       "        vertical-align: middle;\n",
       "    }\n",
       "\n",
       "    .dataframe tbody tr th {\n",
       "        vertical-align: top;\n",
       "    }\n",
       "\n",
       "    .dataframe thead th {\n",
       "        text-align: right;\n",
       "    }\n",
       "</style>\n",
       "<table border=\"1\" class=\"dataframe\">\n",
       "  <thead>\n",
       "    <tr style=\"text-align: right;\">\n",
       "      <th></th>\n",
       "      <th>song_title</th>\n",
       "      <th>file_name</th>\n",
       "      <th>program_change_value</th>\n",
       "      <th>inst</th>\n",
       "      <th>start_position</th>\n",
       "      <th>end_position</th>\n",
       "      <th>num_measures</th>\n",
       "      <th>bpm</th>\n",
       "      <th>key</th>\n",
       "      <th>instrument_name</th>\n",
       "      <th>repeated</th>\n",
       "      <th>genre</th>\n",
       "      <th>min_pitch</th>\n",
       "      <th>max_pitch</th>\n",
       "      <th>mean_pitch</th>\n",
       "      <th>min_velocity</th>\n",
       "      <th>max_velocity</th>\n",
       "      <th>chord_progressions</th>\n",
       "      <th>pitch_range</th>\n",
       "      <th>time_signature</th>\n",
       "    </tr>\n",
       "  </thead>\n",
       "  <tbody>\n",
       "    <tr>\n",
       "      <th>1964</th>\n",
       "      <td>AllOfMe</td>\n",
       "      <td>02_vibes_02.mid</td>\n",
       "      <td>11</td>\n",
       "      <td>vibraphone</td>\n",
       "      <td>17</td>\n",
       "      <td>24</td>\n",
       "      <td>8</td>\n",
       "      <td>135</td>\n",
       "      <td>c_major</td>\n",
       "      <td>02_vibes</td>\n",
       "      <td>NaN</td>\n",
       "      <td>movie</td>\n",
       "      <td>63</td>\n",
       "      <td>76</td>\n",
       "      <td>69</td>\n",
       "      <td>81</td>\n",
       "      <td>81</td>\n",
       "      <td>['e4', 'g4', 'e4', 'f4', 'g#4', 'b4', 'e5', 'b...</td>\n",
       "      <td>mid</td>\n",
       "      <td>4/4</td>\n",
       "    </tr>\n",
       "    <tr>\n",
       "      <th>1965</th>\n",
       "      <td>AllOfMe</td>\n",
       "      <td>02_vibes_03.mid</td>\n",
       "      <td>11</td>\n",
       "      <td>vibraphone</td>\n",
       "      <td>25</td>\n",
       "      <td>32</td>\n",
       "      <td>8</td>\n",
       "      <td>135</td>\n",
       "      <td>c_major</td>\n",
       "      <td>02_vibes</td>\n",
       "      <td>NaN</td>\n",
       "      <td>movie</td>\n",
       "      <td>63</td>\n",
       "      <td>74</td>\n",
       "      <td>68</td>\n",
       "      <td>81</td>\n",
       "      <td>81</td>\n",
       "      <td>['e4', 'c5', 'c#5', 'd5', 'c5', 'c#5', 'd5', '...</td>\n",
       "      <td>mid</td>\n",
       "      <td>4/4</td>\n",
       "    </tr>\n",
       "    <tr>\n",
       "      <th>1966</th>\n",
       "      <td>AllOfMe</td>\n",
       "      <td>02_vibes_04.mid</td>\n",
       "      <td>11</td>\n",
       "      <td>vibraphone</td>\n",
       "      <td>33</td>\n",
       "      <td>40</td>\n",
       "      <td>8</td>\n",
       "      <td>135</td>\n",
       "      <td>c_major</td>\n",
       "      <td>02_vibes</td>\n",
       "      <td>NaN</td>\n",
       "      <td>movie</td>\n",
       "      <td>62</td>\n",
       "      <td>76</td>\n",
       "      <td>70</td>\n",
       "      <td>81</td>\n",
       "      <td>81</td>\n",
       "      <td>['d5', 'c5', 'b4', 'd4', 'g4', 'a4', 'b4', 'b4...</td>\n",
       "      <td>mid</td>\n",
       "      <td>4/4</td>\n",
       "    </tr>\n",
       "    <tr>\n",
       "      <th>1967</th>\n",
       "      <td>AllOfMe</td>\n",
       "      <td>02_vibes_08.mid</td>\n",
       "      <td>11</td>\n",
       "      <td>vibraphone</td>\n",
       "      <td>65</td>\n",
       "      <td>72</td>\n",
       "      <td>8</td>\n",
       "      <td>135</td>\n",
       "      <td>c_major</td>\n",
       "      <td>02_vibes</td>\n",
       "      <td>NaN</td>\n",
       "      <td>movie</td>\n",
       "      <td>63</td>\n",
       "      <td>84</td>\n",
       "      <td>72</td>\n",
       "      <td>81</td>\n",
       "      <td>81</td>\n",
       "      <td>['c6', 'a5', 'g#5', 'g5', 'e5', 'f5', 'e-5', '...</td>\n",
       "      <td>mid</td>\n",
       "      <td>4/4</td>\n",
       "    </tr>\n",
       "    <tr>\n",
       "      <th>1968</th>\n",
       "      <td>AllOfMe</td>\n",
       "      <td>02_vibes_09.mid</td>\n",
       "      <td>11</td>\n",
       "      <td>vibraphone</td>\n",
       "      <td>73</td>\n",
       "      <td>80</td>\n",
       "      <td>8</td>\n",
       "      <td>135</td>\n",
       "      <td>c_major</td>\n",
       "      <td>02_vibes</td>\n",
       "      <td>NaN</td>\n",
       "      <td>movie</td>\n",
       "      <td>63</td>\n",
       "      <td>74</td>\n",
       "      <td>68</td>\n",
       "      <td>81</td>\n",
       "      <td>81</td>\n",
       "      <td>['e4', 'c5', 'd5', 'c5', 'b4', 'b4', 'g#4', 'e...</td>\n",
       "      <td>mid</td>\n",
       "      <td>4/4</td>\n",
       "    </tr>\n",
       "    <tr>\n",
       "      <th>1969</th>\n",
       "      <td>AllOfMe</td>\n",
       "      <td>02_vibes_10.mid</td>\n",
       "      <td>11</td>\n",
       "      <td>vibraphone</td>\n",
       "      <td>81</td>\n",
       "      <td>88</td>\n",
       "      <td>8</td>\n",
       "      <td>135</td>\n",
       "      <td>c_major</td>\n",
       "      <td>02_vibes</td>\n",
       "      <td>NaN</td>\n",
       "      <td>movie</td>\n",
       "      <td>64</td>\n",
       "      <td>76</td>\n",
       "      <td>71</td>\n",
       "      <td>81</td>\n",
       "      <td>81</td>\n",
       "      <td>['d5', 'b4', 'c5', 'c#5', 'd5', 'b4', 'c5', 'd...</td>\n",
       "      <td>mid</td>\n",
       "      <td>4/4</td>\n",
       "    </tr>\n",
       "  </tbody>\n",
       "</table>\n",
       "</div>"
      ],
      "text/plain": [
       "     song_title        file_name  program_change_value        inst  \\\n",
       "1964    AllOfMe  02_vibes_02.mid                    11  vibraphone   \n",
       "1965    AllOfMe  02_vibes_03.mid                    11  vibraphone   \n",
       "1966    AllOfMe  02_vibes_04.mid                    11  vibraphone   \n",
       "1967    AllOfMe  02_vibes_08.mid                    11  vibraphone   \n",
       "1968    AllOfMe  02_vibes_09.mid                    11  vibraphone   \n",
       "1969    AllOfMe  02_vibes_10.mid                    11  vibraphone   \n",
       "\n",
       "      start_position  end_position  num_measures  bpm      key  \\\n",
       "1964              17            24             8  135  c_major   \n",
       "1965              25            32             8  135  c_major   \n",
       "1966              33            40             8  135  c_major   \n",
       "1967              65            72             8  135  c_major   \n",
       "1968              73            80             8  135  c_major   \n",
       "1969              81            88             8  135  c_major   \n",
       "\n",
       "     instrument_name repeated  genre  min_pitch  max_pitch  mean_pitch  \\\n",
       "1964        02_vibes      NaN  movie         63         76          69   \n",
       "1965        02_vibes      NaN  movie         63         74          68   \n",
       "1966        02_vibes      NaN  movie         62         76          70   \n",
       "1967        02_vibes      NaN  movie         63         84          72   \n",
       "1968        02_vibes      NaN  movie         63         74          68   \n",
       "1969        02_vibes      NaN  movie         64         76          71   \n",
       "\n",
       "      min_velocity  max_velocity  \\\n",
       "1964            81            81   \n",
       "1965            81            81   \n",
       "1966            81            81   \n",
       "1967            81            81   \n",
       "1968            81            81   \n",
       "1969            81            81   \n",
       "\n",
       "                                     chord_progressions pitch_range  \\\n",
       "1964  ['e4', 'g4', 'e4', 'f4', 'g#4', 'b4', 'e5', 'b...         mid   \n",
       "1965  ['e4', 'c5', 'c#5', 'd5', 'c5', 'c#5', 'd5', '...         mid   \n",
       "1966  ['d5', 'c5', 'b4', 'd4', 'g4', 'a4', 'b4', 'b4...         mid   \n",
       "1967  ['c6', 'a5', 'g#5', 'g5', 'e5', 'f5', 'e-5', '...         mid   \n",
       "1968  ['e4', 'c5', 'd5', 'c5', 'b4', 'b4', 'g#4', 'e...         mid   \n",
       "1969  ['d5', 'b4', 'c5', 'c#5', 'd5', 'b4', 'c5', 'd...         mid   \n",
       "\n",
       "     time_signature  \n",
       "1964            4/4  \n",
       "1965            4/4  \n",
       "1966            4/4  \n",
       "1967            4/4  \n",
       "1968            4/4  \n",
       "1969            4/4  "
      ]
     },
     "execution_count": 7,
     "metadata": {},
     "output_type": "execute_result"
    }
   ],
   "source": [
    "df[1964:1970]"
   ]
  },
  {
   "cell_type": "code",
   "execution_count": 8,
   "metadata": {},
   "outputs": [],
   "source": [
    "cl = chord_df['NOTES'].to_list()\n",
    "for idx, v in enumerate(cl):\n",
    "    cl[idx] = v.replace(',', '')\n",
    "\n",
    "for idx, v in enumerate(cl):\n",
    "    cl[idx] = v.replace('b', '-')"
   ]
  },
  {
   "cell_type": "code",
   "execution_count": 9,
   "metadata": {},
   "outputs": [
    {
     "data": {
      "text/plain": [
       "'./data/movie/cropped/AllOfMe/02_vibes_02.mid'"
      ]
     },
     "execution_count": 9,
     "metadata": {},
     "output_type": "execute_result"
    }
   ],
   "source": [
    "our_m[1964]"
   ]
  },
  {
   "cell_type": "code",
   "execution_count": 10,
   "metadata": {},
   "outputs": [
    {
     "name": "stdout",
     "output_type": "stream",
     "text": [
      "{0.0} <music21.metadata.Metadata object at 0x14fe84ac0>\n",
      "{0.0} <music21.stream.Part 0x14fe84a30>\n",
      "    {0.0} <music21.stream.Measure 1 offset=0.0>\n",
      "        {0.0} <music21.instrument.Vibraphone 'Vibes: Vibes'>\n",
      "        {0.0} <music21.instrument.Vibraphone 'Vibraphone'>\n",
      "        {0.0} <music21.instrument.Vibraphone 'Vibraphone'>\n",
      "        {0.0} <music21.clef.TrebleClef>\n",
      "        {0.0} <music21.tempo.MetronomeMark animato Quarter=120.0>\n",
      "        {0.0} <music21.meter.TimeSignature 4/4>\n",
      "        {0.0} <music21.note.Rest 2/3ql>\n",
      "        {0.6667} <music21.note.Note E>\n",
      "        {1.0} <music21.note.Note G>\n",
      "        {1.6667} <music21.note.Note E>\n",
      "        {2.0} <music21.note.Note F>\n",
      "        {2.3333} <music21.note.Note G#>\n",
      "        {2.6667} <music21.note.Note B>\n",
      "        {3.0} <music21.note.Note E>\n",
      "        {3.6667} <music21.note.Note B>\n",
      "    {4.0} <music21.stream.Measure 2 offset=4.0>\n",
      "        {0.0} <music21.note.Note D>\n",
      "        {0.6667} <music21.note.Note C>\n",
      "    {8.0} <music21.stream.Measure 3 offset=8.0>\n",
      "        {0.0} <music21.note.Note C>\n",
      "        {3.1667} <music21.note.Rest 5/6ql>\n",
      "    {12.0} <music21.stream.Measure 4 offset=12.0>\n",
      "        {0.0} <music21.note.Note B>\n",
      "        {1.0} <music21.note.Note B->\n",
      "        {1.6667} <music21.note.Note A>\n",
      "        {2.9167} <music21.note.Rest 1/12ql>\n",
      "        {3.0} <music21.note.Note G>\n",
      "        {3.5} <music21.note.Rest eighth>\n",
      "    {16.0} <music21.stream.Measure 5 offset=16.0>\n",
      "        {0.0} <music21.note.Note B->\n",
      "        {0.6667} <music21.note.Note A>\n",
      "        {1.1667} <music21.note.Rest 5/6ql>\n",
      "        {2.0} <music21.note.Note D>\n",
      "        {2.6667} <music21.note.Note B->\n",
      "        {3.0} <music21.note.Note B>\n",
      "        {3.6667} <music21.note.Note D>\n",
      "    {20.0} <music21.stream.Measure 6 offset=20.0>\n",
      "        {0.0} <music21.note.Note A>\n",
      "        {0.6667} <music21.note.Note G>\n",
      "    {24.0} <music21.stream.Measure 7 offset=24.0>\n",
      "        {0.0} <music21.note.Note G>\n",
      "        {3.4167} <music21.note.Rest 7/12ql>\n",
      "    {28.0} <music21.stream.Measure 8 offset=28.0>\n",
      "        {0.0} <music21.note.Rest 5/3ql>\n",
      "        {1.6667} <music21.note.Note B>\n",
      "        {2.0} <music21.note.Note C>\n",
      "        {2.6667} <music21.note.Note F#>\n",
      "        {3.0} <music21.note.Note G>\n",
      "        {3.6667} <music21.note.Note E->\n",
      "        {4.0} <music21.bar.Barline type=final>\n"
     ]
    }
   ],
   "source": [
    "score = converter.parse(our_m[1964])\n",
    "score.show('text')"
   ]
  },
  {
   "cell_type": "code",
   "execution_count": 11,
   "metadata": {},
   "outputs": [
    {
     "name": "stdout",
     "output_type": "stream",
     "text": [
      "Measuring:  1\n",
      "EGFG#B\n",
      "['EG#B']\n",
      "Measuring:  2\n",
      "DC\n",
      "['DGAC']\n",
      "Measuring:  3\n",
      "Measuring:  4\n",
      "BB-AG\n",
      "['B-DFG']\n",
      "Measuring:  5\n",
      "B-ADB\n",
      "['GB-D']\n",
      "Measuring:  6\n",
      "AG\n",
      "['FACG']\n",
      "Measuring:  7\n",
      "Measuring:  8\n",
      "BCF#GE-\n",
      "['CFGB-']\n"
     ]
    }
   ],
   "source": [
    "chord_progression = list()\n",
    "cp = list()\n",
    "\n",
    "for i in range(8):\n",
    "    \n",
    "    note_list = list()\n",
    "\n",
    "    for obj in score.measures(i+1, i+1).recurse():\n",
    "        if isinstance(obj, note.Note):\n",
    "            if obj.duration.quarterLength > 0.3:\n",
    "                note_list.append(obj.name)  \n",
    "        elif isinstance(obj, chord.Chord):\n",
    "            for p in obj.pitches:   \n",
    "                note_list.append(p.name)\n",
    "                \n",
    "    print('Measuring: ', i+1)\n",
    "\n",
    "    current_chord = list()\n",
    "\n",
    "    for value in note_list:\n",
    "        if value not in current_chord:\n",
    "            current_chord.append(value)\n",
    "\n",
    "    if len(current_chord) == 0:\n",
    "        cp.append('Bar_None')\n",
    "\n",
    "    if len(current_chord) == 1:\n",
    "        cp.append(str(current_chord[0]))\n",
    "\n",
    "    if len(current_chord) > 1:\n",
    "\n",
    "        notes = str()\n",
    "        \n",
    "        for i in current_chord:\n",
    "            notes += i\n",
    "        \n",
    "        print(notes)\n",
    "        close_matches = get_close_matches(notes, cl , 1, 0.5)\n",
    "        print(close_matches)\n",
    "\n",
    "        tnl = list()\n",
    "        for i in range(len(str(close_matches[0]))):\n",
    "            if close_matches[0][i] == '#':\n",
    "                tnl.append(close_matches[0][i-1] + '#')\n",
    "                tnl.remove(close_matches[0][i-1])\n",
    "            elif close_matches[0][i] == '-':\n",
    "                tnl.append(close_matches[0][i-1] + 'b')\n",
    "                tnl.remove(close_matches[0][i-1])\n",
    "            else:\n",
    "                tnl.append(close_matches[0][i])\n",
    "\n",
    "        basic = chord_df[chord_df['Notes_list_string'] == str (tnl)]['CHORD_ROOT'].values[0]\n",
    "        chord_type = chord_df[chord_df['Notes_list_string'] == str(tnl)]['CHORD_TYPE'].values[0]\n",
    "        if chord_type == '5':\n",
    "            chord_type = ''\n",
    "        if chord_type == 'm5':\n",
    "            chord_type = 'm'\n",
    "        cp.append(str(basic + chord_type))"
   ]
  },
  {
   "cell_type": "code",
   "execution_count": 12,
   "metadata": {},
   "outputs": [
    {
     "data": {
      "text/plain": [
       "['B', 'B-', 'A', 'G']"
      ]
     },
     "execution_count": 12,
     "metadata": {},
     "output_type": "execute_result"
    }
   ],
   "source": [
    "note_list = list()\n",
    "\n",
    "for obj in score.measures(4, 4).recurse():\n",
    "    if isinstance(obj, note.Note):\n",
    "        if obj.duration.quarterLength > 0.3:\n",
    "            note_list.append(obj.name)  \n",
    "    elif isinstance(obj, chord.Chord):\n",
    "        for p in obj.pitches:   \n",
    "            note_list.append(p.name) \n",
    "\n",
    "note_list"
   ]
  },
  {
   "cell_type": "code",
   "execution_count": 13,
   "metadata": {},
   "outputs": [
    {
     "data": {
      "text/plain": [
       "['B', 'B-', 'A', 'G']"
      ]
     },
     "execution_count": 13,
     "metadata": {},
     "output_type": "execute_result"
    }
   ],
   "source": [
    "current_chord = list()\n",
    "\n",
    "for value in note_list:\n",
    "    if value not in current_chord:\n",
    "        current_chord.append(value)\n",
    "        \n",
    "current_chord"
   ]
  },
  {
   "cell_type": "code",
   "execution_count": 14,
   "metadata": {},
   "outputs": [
    {
     "data": {
      "text/plain": [
       "'BB-AG'"
      ]
     },
     "execution_count": 14,
     "metadata": {},
     "output_type": "execute_result"
    }
   ],
   "source": [
    "notes = str()\n",
    "for i in current_chord:\n",
    "    notes += i\n",
    "\n",
    "# for i in notes:\n",
    "#     if i == '-':\n",
    "#         notes = notes.replace('-', 'o')\n",
    "notes"
   ]
  },
  {
   "cell_type": "code",
   "execution_count": 15,
   "metadata": {},
   "outputs": [
    {
     "data": {
      "text/plain": [
       "['B-DFG']"
      ]
     },
     "execution_count": 15,
     "metadata": {},
     "output_type": "execute_result"
    }
   ],
   "source": [
    "close_matches = get_close_matches(notes, cl , 1, 0.5)\n",
    "\n",
    "close_matches"
   ]
  },
  {
   "cell_type": "code",
   "execution_count": 18,
   "metadata": {},
   "outputs": [
    {
     "name": "stdout",
     "output_type": "stream",
     "text": [
      "['Bb', 'D', 'F', 'G']\n"
     ]
    },
    {
     "data": {
      "text/html": [
       "<div>\n",
       "<style scoped>\n",
       "    .dataframe tbody tr th:only-of-type {\n",
       "        vertical-align: middle;\n",
       "    }\n",
       "\n",
       "    .dataframe tbody tr th {\n",
       "        vertical-align: top;\n",
       "    }\n",
       "\n",
       "    .dataframe thead th {\n",
       "        text-align: right;\n",
       "    }\n",
       "</style>\n",
       "<table border=\"1\" class=\"dataframe\">\n",
       "  <thead>\n",
       "    <tr style=\"text-align: right;\">\n",
       "      <th></th>\n",
       "      <th>CHORD_ROOT</th>\n",
       "      <th>CHORD_TYPE</th>\n",
       "      <th>CHORD_STRUCTURE</th>\n",
       "      <th>NOTES</th>\n",
       "      <th>Notes_list</th>\n",
       "      <th>Notes_list_string</th>\n",
       "    </tr>\n",
       "  </thead>\n",
       "  <tbody>\n",
       "    <tr>\n",
       "      <th>147</th>\n",
       "      <td>Bb</td>\n",
       "      <td>6</td>\n",
       "      <td>1;3;5;6</td>\n",
       "      <td>Bb,D,F,G</td>\n",
       "      <td>[Bb, D, F, G]</td>\n",
       "      <td>['Bb', 'D', 'F', 'G']</td>\n",
       "    </tr>\n",
       "  </tbody>\n",
       "</table>\n",
       "</div>"
      ],
      "text/plain": [
       "    CHORD_ROOT CHORD_TYPE CHORD_STRUCTURE     NOTES     Notes_list  \\\n",
       "147         Bb          6         1;3;5;6  Bb,D,F,G  [Bb, D, F, G]   \n",
       "\n",
       "         Notes_list_string  \n",
       "147  ['Bb', 'D', 'F', 'G']  "
      ]
     },
     "execution_count": 18,
     "metadata": {},
     "output_type": "execute_result"
    }
   ],
   "source": [
    "\n",
    "tnl = list()\n",
    "for i in range(len(str(close_matches[0]))):\n",
    "    if close_matches[0][i] == '#':\n",
    "        tnl.append(close_matches[0][i-1] + '#')\n",
    "        tnl.remove(close_matches[0][i-1])\n",
    "    elif close_matches[0][i] == '-':\n",
    "        tnl.append(close_matches[0][i-1] + 'b')\n",
    "        tnl.remove(close_matches[0][i-1])\n",
    "    else:\n",
    "        tnl.append(close_matches[0][i])\n",
    "\n",
    "print(tnl)\n",
    "\n",
    "chord_df[chord_df['Notes_list_string'] == str(tnl)]"
   ]
  },
  {
   "cell_type": "code",
   "execution_count": 130,
   "metadata": {},
   "outputs": [],
   "source": [
    "def extract_chord_progression(midi_path, chord_df, cl):\n",
    "\n",
    "    score = converter.parse(midi_path)\n",
    "\n",
    "    chord_progression = list()\n",
    "    cp = list()\n",
    "\n",
    "    for i in range(8):\n",
    "        \n",
    "        note_list = list()\n",
    "\n",
    "        for obj in score.measures(i+1, i+1).recurse():\n",
    "            if isinstance(obj, note.Note):\n",
    "                if obj.duration.quarterLength > 0.3:\n",
    "                    note_list.append(obj.name)  \n",
    "            elif isinstance(obj, chord.Chord):\n",
    "                for p in obj.pitches:   \n",
    "                    note_list.append(p.name) \n",
    "\n",
    "        current_chord = list()\n",
    "\n",
    "        for value in note_list:\n",
    "            if value not in current_chord:\n",
    "                current_chord.append(value)\n",
    "\n",
    "        if len(current_chord) == 0:\n",
    "            cp.append('Bar_None')\n",
    "\n",
    "        if len(current_chord) == 1:\n",
    "            cp.append(str(current_chord[0]))\n",
    "\n",
    "        if len(current_chord) > 1:\n",
    "\n",
    "            notes = str()\n",
    "            \n",
    "            for i in current_chord:\n",
    "                notes += i\n",
    "            \n",
    "            if len(notes) > 5:\n",
    "                notes = notes[:5]\n",
    "            \n",
    "            close_matches = get_close_matches(notes, cl , 1, 0.6)\n",
    "            \n",
    "            if not close_matches:\n",
    "                close_matches = get_close_matches(notes, cl , 1, 0.5)\n",
    "                print(midi_path, close_matches)\n",
    "\n",
    "            tnl = list()\n",
    "            for i in range(len(str(close_matches[0]))):\n",
    "                if close_matches[0][i] == '#':\n",
    "                    tnl.append(close_matches[0][i-1] + '#')\n",
    "                    tnl.remove(close_matches[0][i-1])\n",
    "                elif close_matches[0][i] == '-':\n",
    "                    tnl.append(close_matches[0][i-1] + 'b')\n",
    "                    tnl.remove(close_matches[0][i-1])\n",
    "                else:\n",
    "                    tnl.append(close_matches[0][i])\n",
    "\n",
    "            basic = chord_df[chord_df['Notes_list_string'] == str (tnl)]['CHORD_ROOT'].values[0]\n",
    "            chord_type = chord_df[chord_df['Notes_list_string'] == str(tnl)]['CHORD_TYPE'].values[0]\n",
    "            if chord_type == '5':\n",
    "                chord_type = ''\n",
    "            if chord_type == 'm5':\n",
    "                chord_type = 'm'\n",
    "            cp.append(str(basic + chord_type))\n",
    "\n",
    "    for c in cp:\n",
    "        for i in range(8):\n",
    "            chord_progression.append(c)\n",
    "    \n",
    "    return chord_progression"
   ]
  },
  {
   "cell_type": "code",
   "execution_count": 131,
   "metadata": {},
   "outputs": [
    {
     "name": "stderr",
     "output_type": "stream",
     "text": [
      "31it [00:00, 83.19it/s] "
     ]
    },
    {
     "name": "stdout",
     "output_type": "stream",
     "text": [
      "./data/movie/cropped/10/01_stringinstrument_09.mid ['GAD']\n",
      "./data/movie/cropped/10/01_stringinstrument_09.mid ['GCD']\n",
      "./data/movie/cropped/10/01_stringinstrument_10.mid ['FGC']\n",
      "./data/movie/cropped/10/01_stringinstrument_10.mid ['FGC']\n",
      "./data/movie/cropped/10/01_stringinstrument_10.mid ['BDF']\n",
      "./data/movie/cropped/10/01_stringinstrument_13.mid ['DFA']\n",
      "./data/movie/cropped/10/01_stringinstrument_13.mid ['EGBD']\n",
      "./data/movie/cropped/10/01_stringinstrument_14.mid ['EGBD']\n",
      "./data/movie/cropped/10/01_stringinstrument_14.mid ['EAB']\n"
     ]
    },
    {
     "name": "stderr",
     "output_type": "stream",
     "text": [
      "50it [00:00, 83.30it/s]"
     ]
    },
    {
     "name": "stdout",
     "output_type": "stream",
     "text": [
      "./data/movie/cropped/101Dalmations/00_brass_00.mid ['FAC']\n",
      "./data/movie/cropped/101Dalmations/00_brass_02.mid ['EGB']\n",
      "./data/movie/cropped/101Dalmations/00_brass_02.mid ['EGB']\n",
      "./data/movie/cropped/101Dalmations/00_brass_06.mid ['EGB']\n",
      "./data/movie/cropped/101Dalmations/00_brass_06.mid ['EGB']\n",
      "./data/movie/cropped/101Dalmations/01_electric_piano_00.mid ['FAC']\n",
      "./data/movie/cropped/101Dalmations/01_electric_piano_02.mid ['GCD']\n",
      "./data/movie/cropped/101Dalmations/01_electric_piano_02.mid ['EG#BF#']\n"
     ]
    },
    {
     "name": "stderr",
     "output_type": "stream",
     "text": [
      "59it [00:00, 63.69it/s]"
     ]
    },
    {
     "name": "stdout",
     "output_type": "stream",
     "text": [
      "./data/movie/cropped/101Dalmations/01_electric_piano_06.mid ['GCD']\n"
     ]
    },
    {
     "name": "stderr",
     "output_type": "stream",
     "text": [
      "83it [00:01, 60.25it/s]\n"
     ]
    },
    {
     "name": "stdout",
     "output_type": "stream",
     "text": [
      "./data/movie/cropped/12Monkeys/04_stringinstrument_02.mid []\n"
     ]
    },
    {
     "ename": "IndexError",
     "evalue": "list index out of range",
     "output_type": "error",
     "traceback": [
      "\u001b[0;31m---------------------------------------------------------------------------\u001b[0m",
      "\u001b[0;31mIndexError\u001b[0m                                Traceback (most recent call last)",
      "Cell \u001b[0;32mIn[131], line 12\u001b[0m\n\u001b[1;32m      8\u001b[0m     cl[idx] \u001b[39m=\u001b[39m v\u001b[39m.\u001b[39mreplace(\u001b[39m'\u001b[39m\u001b[39mb\u001b[39m\u001b[39m'\u001b[39m, \u001b[39m'\u001b[39m\u001b[39m-\u001b[39m\u001b[39m'\u001b[39m)\n\u001b[1;32m     10\u001b[0m \u001b[39mfor\u001b[39;00m idx, path \u001b[39min\u001b[39;00m tqdm(\u001b[39menumerate\u001b[39m(our_m)):\n\u001b[0;32m---> 12\u001b[0m     chord_progression \u001b[39m=\u001b[39m extract_chord_progression(path, chord_df, cl)\n\u001b[1;32m     13\u001b[0m     df\u001b[39m.\u001b[39mat[idx, \u001b[39m'\u001b[39m\u001b[39mchord_progressions\u001b[39m\u001b[39m'\u001b[39m] \u001b[39m=\u001b[39m [chord_progression]\n",
      "Cell \u001b[0;32mIn[130], line 49\u001b[0m, in \u001b[0;36mextract_chord_progression\u001b[0;34m(midi_path, chord_df, cl)\u001b[0m\n\u001b[1;32m     46\u001b[0m     \u001b[39mprint\u001b[39m(midi_path, close_matches)\n\u001b[1;32m     48\u001b[0m tnl \u001b[39m=\u001b[39m \u001b[39mlist\u001b[39m()\n\u001b[0;32m---> 49\u001b[0m \u001b[39mfor\u001b[39;00m i \u001b[39min\u001b[39;00m \u001b[39mrange\u001b[39m(\u001b[39mlen\u001b[39m(\u001b[39mstr\u001b[39m(close_matches[\u001b[39m0\u001b[39;49m]))):\n\u001b[1;32m     50\u001b[0m     \u001b[39mif\u001b[39;00m close_matches[\u001b[39m0\u001b[39m][i] \u001b[39m==\u001b[39m \u001b[39m'\u001b[39m\u001b[39m#\u001b[39m\u001b[39m'\u001b[39m:\n\u001b[1;32m     51\u001b[0m         tnl\u001b[39m.\u001b[39mappend(close_matches[\u001b[39m0\u001b[39m][i\u001b[39m-\u001b[39m\u001b[39m1\u001b[39m] \u001b[39m+\u001b[39m \u001b[39m'\u001b[39m\u001b[39m#\u001b[39m\u001b[39m'\u001b[39m)\n",
      "\u001b[0;31mIndexError\u001b[0m: list index out of range"
     ]
    }
   ],
   "source": [
    "df['chord_progressions'] = None\n",
    "\n",
    "cl = chord_df['NOTES'].to_list()\n",
    "for idx, v in enumerate(cl):\n",
    "    cl[idx] = v.replace(',', '')\n",
    "\n",
    "for idx, v in enumerate(cl):\n",
    "    cl[idx] = v.replace('b', '-')\n",
    "\n",
    "for idx, path in tqdm(enumerate(our_m)):\n",
    "    \n",
    "    chord_progression = extract_chord_progression(path, chord_df, cl)\n",
    "    df.at[idx, 'chord_progressions'] = [chord_progression]\n",
    "    "
   ]
  },
  {
   "cell_type": "code",
   "execution_count": null,
   "metadata": {},
   "outputs": [],
   "source": []
  }
 ],
 "metadata": {
  "kernelspec": {
   "display_name": "torch_book",
   "language": "python",
   "name": "python3"
  },
  "language_info": {
   "codemirror_mode": {
    "name": "ipython",
    "version": 3
   },
   "file_extension": ".py",
   "mimetype": "text/x-python",
   "name": "python",
   "nbconvert_exporter": "python",
   "pygments_lexer": "ipython3",
   "version": "3.9.16"
  },
  "orig_nbformat": 4
 },
 "nbformat": 4,
 "nbformat_minor": 2
}
