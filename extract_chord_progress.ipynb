{
 "cells": [
  {
   "cell_type": "code",
   "execution_count": 1,
   "metadata": {},
   "outputs": [],
   "source": [
    "import pandas as pd\n",
    "import numpy as np\n",
    "\n",
    "import miditoolkit\n",
    "\n",
    "import re\n",
    "import glob\n",
    "import os\n",
    "\n",
    "from music21 import converter, midi, key, instrument, meter, interval, note, pitch, stream, tempo, chord\n",
    "import os\n",
    "import pandas as pd\n",
    "import glob\n",
    "\n",
    "from tqdm import tqdm\n",
    "\n",
    "from utils.utils import open_midi, get_file_name, extract_tempo, extract_key, to_snake_case, chord_type_checker\n",
    "\n",
    "from difflib import get_close_matches"
   ]
  },
  {
   "cell_type": "code",
   "execution_count": 2,
   "metadata": {},
   "outputs": [],
   "source": [
    "p_df = pd.read_csv(r'/Users/hai/Desktop/hch/projects/midi/csv/program_change.csv')\n",
    "com_df = pd.read_csv(r'/Users/hai/Desktop/hch/projects/midi/csv/commu_meta.csv', index_col=0)\n",
    "df = pd.read_csv(r'/Users/hai/Desktop/hch/projects/midi/csv/allgenre_cp.csv')\n",
    "\n",
    "chord_df = pd.read_csv(r'/Users/hai/Desktop/hch/projects/midi/csv/chord_list.csv')"
   ]
  },
  {
   "cell_type": "code",
   "execution_count": 3,
   "metadata": {},
   "outputs": [],
   "source": [
    "scale = [\"maj\", \"maj7\",\"7\",\"dim\",\"dim7\",\"+\",\"m\",\"m7\",\"sus4\",\"7sus4\",\"m7b5\",\"sus2\",\"add2\",\"madd2\",\"mM7\", '5', '6' , 'm5' , 'm6']\n",
    "chord_df['CHORD_TYPE'] = chord_df['CHORD_TYPE'].apply(lambda x: '+' if x == 'aug' else x)\n",
    "chord_df['CHORD_TYPE'] = chord_df['CHORD_TYPE'].apply(lambda x: 'mM7' if x == 'm(maj7)' else x)\n",
    "chord_df['CHORD_TYPE'] = chord_df['CHORD_TYPE'].apply(lambda x: 'add2' if x == 'add9' else x)\n",
    "chord_df = chord_df[chord_df['CHORD_TYPE'].isin(scale)]\n",
    "chord_df.reset_index(drop=True, inplace=True)\n",
    "\n",
    "chord_df['Notes_list'] = chord_df['NOTES'].apply(lambda x: [y for y in x.split(',')])\n",
    "chord_df['Notes_list_string'] = chord_df['Notes_list'].apply(lambda x: str(x))"
   ]
  },
  {
   "cell_type": "code",
   "execution_count": 4,
   "metadata": {},
   "outputs": [],
   "source": [
    "commu_folder = './commu_midi'\n",
    "com_m = glob.glob(f'{commu_folder}/*.mid')\n",
    "com_m.sort()"
   ]
  },
  {
   "cell_type": "code",
   "execution_count": 5,
   "metadata": {},
   "outputs": [],
   "source": [
    "our_m = list()\n",
    "for idx, v in enumerate(df['song_title'].values):\n",
    "\n",
    "    genre = df['genre'].values[idx]\n",
    "    data_folder = './data/' + genre + '/cropped'\n",
    "\n",
    "    our_m.append(os.path.join(data_folder, v + '/' + df['file_name'].values[idx]))"
   ]
  },
  {
   "cell_type": "code",
   "execution_count": 6,
   "metadata": {},
   "outputs": [],
   "source": [
    "def extract_chord_progression(midi_path, chord_df, cl):\n",
    "\n",
    "    score = converter.parse(midi_path)\n",
    "\n",
    "    chord_progression = list()\n",
    "    cp = list()\n",
    "\n",
    "    for i in range(8):\n",
    "        \n",
    "        note_list = list()\n",
    "\n",
    "        for obj in score.measures(i+1, i+1).recurse():\n",
    "            if isinstance(obj, note.Note):\n",
    "                if obj.duration.quarterLength > 0.3:\n",
    "                    note_list.append(obj.name)  \n",
    "            elif isinstance(obj, chord.Chord):\n",
    "                for p in obj.pitches:   \n",
    "                    note_list.append(p.name) \n",
    "\n",
    "        current_chord = list()\n",
    "\n",
    "        for value in note_list:\n",
    "            if value not in current_chord:\n",
    "                current_chord.append(value)\n",
    "\n",
    "        if len(current_chord) == 0:\n",
    "            cp.append('Bar_None')\n",
    "\n",
    "        if len(current_chord) == 1:\n",
    "            cp.append(str(current_chord[0]))\n",
    "\n",
    "        if len(current_chord) > 1:\n",
    "\n",
    "            notes = str()\n",
    "            \n",
    "            for i in current_chord:\n",
    "                notes += i\n",
    "            \n",
    "            if len(notes) > 5:\n",
    "                notes = notes[:5]\n",
    "            \n",
    "            close_matches = get_close_matches(notes, cl , 1, 0.6)\n",
    "            \n",
    "            if not close_matches:\n",
    "                close_matches = get_close_matches(notes, cl , 1, 0.5)\n",
    "\n",
    "            tnl = list()\n",
    "            for i in range(len(str(close_matches[0]))):\n",
    "                if close_matches[0][i] == '#':\n",
    "                    tnl.append(close_matches[0][i-1] + '#')\n",
    "                    tnl.remove(close_matches[0][i-1])\n",
    "                elif close_matches[0][i] == '-':\n",
    "                    tnl.append(close_matches[0][i-1] + 'b')\n",
    "                    tnl.remove(close_matches[0][i-1])\n",
    "                else:\n",
    "                    tnl.append(close_matches[0][i])\n",
    "\n",
    "            basic = chord_df[chord_df['Notes_list_string'] == str (tnl)]['CHORD_ROOT'].values[0]\n",
    "            chord_type = chord_df[chord_df['Notes_list_string'] == str(tnl)]['CHORD_TYPE'].values[0]\n",
    "            if chord_type == '5':\n",
    "                chord_type = ''\n",
    "            if chord_type == 'm5':\n",
    "                chord_type = 'm'\n",
    "            cp.append(str(basic + chord_type))\n",
    "\n",
    "    for c in cp:\n",
    "        for i in range(8):\n",
    "            chord_progression.append(c)\n",
    "    \n",
    "    return chord_progression"
   ]
  },
  {
   "cell_type": "code",
   "execution_count": 7,
   "metadata": {},
   "outputs": [
    {
     "name": "stderr",
     "output_type": "stream",
     "text": [
      "60401it [25:13, 39.92it/s]\n"
     ]
    }
   ],
   "source": [
    "df['chord_progressions'] = None\n",
    "\n",
    "cl = chord_df['NOTES'].to_list()\n",
    "for idx, v in enumerate(cl):\n",
    "    cl[idx] = v.replace(',', '')\n",
    "\n",
    "for idx, v in enumerate(cl):\n",
    "    cl[idx] = v.replace('b', '-')\n",
    "\n",
    "for idx, path in tqdm(enumerate(our_m)):\n",
    "    \n",
    "    chord_progression = extract_chord_progression(path, chord_df, cl)\n",
    "    df.at[idx, 'chord_progressions'] = [chord_progression]\n",
    "    "
   ]
  },
  {
   "cell_type": "code",
   "execution_count": 10,
   "metadata": {},
   "outputs": [],
   "source": [
    "# df.to_csv(r'/Users/hai/Desktop/hch/projects/midi/csv/allgenre_cp.csv', index=False)"
   ]
  },
  {
   "cell_type": "code",
   "execution_count": null,
   "metadata": {},
   "outputs": [],
   "source": []
  }
 ],
 "metadata": {
  "kernelspec": {
   "display_name": "torch_book",
   "language": "python",
   "name": "python3"
  },
  "language_info": {
   "codemirror_mode": {
    "name": "ipython",
    "version": 3
   },
   "file_extension": ".py",
   "mimetype": "text/x-python",
   "name": "python",
   "nbconvert_exporter": "python",
   "pygments_lexer": "ipython3",
   "version": "3.9.16"
  },
  "orig_nbformat": 4
 },
 "nbformat": 4,
 "nbformat_minor": 2
}
